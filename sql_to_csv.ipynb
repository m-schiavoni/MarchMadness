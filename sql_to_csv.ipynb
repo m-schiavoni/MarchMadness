{
 "cells": [
  {
   "cell_type": "code",
   "execution_count": 11,
   "metadata": {},
   "outputs": [],
   "source": [
    "import sqlite3\n",
    "import pandas as pd\n",
    "\n",
    "conn = sqlite3.connect('mm_web_dump_2020-03-22.sqlite')"
   ]
  },
  {
   "cell_type": "markdown",
   "metadata": {},
   "source": [
    "#### Load team stats from database"
   ]
  },
  {
   "cell_type": "code",
   "execution_count": 12,
   "metadata": {},
   "outputs": [],
   "source": [
    "all_stats = pd.read_sql_query('''\n",
    "SELECT Team_Stats1.*, School.name, Season.year, Rank.tourn_rank, \n",
    "       TS2.pace, TS2.ast_pct, TS2.blk_pct, TS2.tov_pct, \n",
    "       OS1.opp_pts, OS1.opp_fg3, OS1.opp_fta, OS1.opp_off_reb, OS1.opp_def_reb, \n",
    "       OS1.opp_ast, OS1.opp_stl, OS1.opp_blk, OS1.opp_tov, \n",
    "       OS2.opp_blk_pct, OS2.opp_tov_pct\n",
    "FROM Team_Stats1\n",
    "INNER JOIN School ON Team_Stats1.school_id = School.id\n",
    "INNER JOIN Season ON Team_Stats1.season_id = Season.id\n",
    "INNER JOIN Rank \n",
    "  ON Team_Stats1.school_id = Rank.school_id AND Team_Stats1.season_id = Rank.season_id\n",
    "INNER JOIN Team_Stats2 AS TS2 \n",
    "  ON Team_Stats1.school_id = TS2.school_id AND Team_Stats1.season_id = TS2.season_id\n",
    "INNER JOIN Opp_Stats1 AS OS1 \n",
    "  ON Team_Stats1.school_id = OS1.school_id AND Team_Stats1.season_id = OS1.season_id\n",
    "INNER JOIN Opp_Stats2 AS OS2 \n",
    "  ON Team_Stats1.school_id = OS2.school_id AND Team_Stats1.season_id = OS2.season_id\n",
    "''', conn)\n",
    "# all_stats.to_csv('all_stats.csv')"
   ]
  },
  {
   "cell_type": "markdown",
   "metadata": {},
   "source": [
    "#### Normalize some variables to average values over 40 minutes of play"
   ]
  },
  {
   "cell_type": "code",
   "execution_count": 4,
   "metadata": {},
   "outputs": [],
   "source": [
    "var_list = ['pts','opp_pts','fg3','opp_fg3','ft','opp_fta','off_reb','opp_off_reb','def_reb','opp_def_reb', \n",
    "            'ast','opp_ast','stl','opp_stl','blk','opp_blk','tov','opp_tov']\n",
    "for var in var_list:\n",
    "    all_stats[var] = all_stats[var] / all_stats['minutes'] * 40"
   ]
  },
  {
   "cell_type": "markdown",
   "metadata": {},
   "source": [
    "#### Engineer some new features"
   ]
  },
  {
   "cell_type": "code",
   "execution_count": 5,
   "metadata": {},
   "outputs": [
    {
     "name": "stdout",
     "output_type": "stream",
     "text": [
      "<class 'pandas.core.frame.DataFrame'>\n",
      "RangeIndex: 677 entries, 0 to 676\n",
      "Data columns (total 26 columns):\n",
      " #   Column        Non-Null Count  Dtype  \n",
      "---  ------        --------------  -----  \n",
      " 0   school_id     677 non-null    int64  \n",
      " 1   season_id     677 non-null    int64  \n",
      " 2   srs           677 non-null    float64\n",
      " 3   fg3           677 non-null    float64\n",
      " 4   ft            677 non-null    float64\n",
      " 5   ast           677 non-null    float64\n",
      " 6   stl           677 non-null    float64\n",
      " 7   blk           677 non-null    float64\n",
      " 8   tov           677 non-null    float64\n",
      " 9   tourn_rank    677 non-null    int64  \n",
      " 10  pace          677 non-null    float64\n",
      " 11  ast_pct       677 non-null    float64\n",
      " 12  blk_pct       677 non-null    float64\n",
      " 13  tov_pct       677 non-null    float64\n",
      " 14  opp_fg3       677 non-null    float64\n",
      " 15  opp_fta       677 non-null    float64\n",
      " 16  opp_ast       677 non-null    float64\n",
      " 17  opp_stl       677 non-null    float64\n",
      " 18  opp_blk       677 non-null    float64\n",
      " 19  opp_tov       677 non-null    float64\n",
      " 20  opp_blk_pct   677 non-null    float64\n",
      " 21  opp_tov_pct   677 non-null    float64\n",
      " 22  score_margin  677 non-null    float64\n",
      " 23  or_pct        677 non-null    float64\n",
      " 24  dr_pct        677 non-null    float64\n",
      " 25  tr_pct        677 non-null    float64\n",
      "dtypes: float64(23), int64(3)\n",
      "memory usage: 137.6 KB\n"
     ]
    }
   ],
   "source": [
    "all_stats['score_margin'] = all_stats['pts'] - all_stats['opp_pts']\n",
    "all_stats['or_pct'] = all_stats['off_reb'] / (all_stats['off_reb'] + all_stats['opp_def_reb'])\n",
    "all_stats['dr_pct'] = all_stats['def_reb'] / (all_stats['def_reb'] + all_stats['opp_off_reb'])\n",
    "all_stats['tr_pct'] = (all_stats['off_reb'] + all_stats['def_reb']) /  \\\n",
    "                      (all_stats['off_reb'] + all_stats['def_reb'] + all_stats['opp_off_reb'] + all_stats['opp_def_reb'])\n",
    "all_stats = all_stats.drop(columns=['name','year','minutes','pts','opp_pts','off_reb','opp_off_reb','def_reb','opp_def_reb'])\n",
    "all_stats.info()"
   ]
  },
  {
   "cell_type": "markdown",
   "metadata": {},
   "source": [
    "#### Load tournament matchups and results from database"
   ]
  },
  {
   "cell_type": "code",
   "execution_count": 6,
   "metadata": {},
   "outputs": [],
   "source": [
    "matchups = pd.read_sql_query(\"SELECT * FROM Tournament\", conn)\n",
    "# invert matchups to create complete set\n",
    "m_inverse = matchups.copy()\n",
    "m_inverse = m_inverse.rename(columns={\"school_id1\": \"school_id2\", \"school_id2\": \"school_id1\", \n",
    "                                      \"score1\": \"score2\", \"score2\": \"score1\"})\n",
    "matchups = matchups.append(m_inverse)"
   ]
  },
  {
   "cell_type": "markdown",
   "metadata": {},
   "source": [
    "#### Create response variables for regression and classification models"
   ]
  },
  {
   "cell_type": "code",
   "execution_count": 7,
   "metadata": {},
   "outputs": [
    {
     "name": "stdout",
     "output_type": "stream",
     "text": [
      "<class 'pandas.core.frame.DataFrame'>\n",
      "Int64Index: 1334 entries, 0 to 666\n",
      "Data columns (total 5 columns):\n",
      " #   Column        Non-Null Count  Dtype\n",
      "---  ------        --------------  -----\n",
      " 0   season_id     1334 non-null   int64\n",
      " 1   school_id1    1334 non-null   int64\n",
      " 2   school_id2    1334 non-null   int64\n",
      " 3   result_regr   1334 non-null   int64\n",
      " 4   result_class  1334 non-null   int64\n",
      "dtypes: int64(5)\n",
      "memory usage: 62.5 KB\n"
     ]
    }
   ],
   "source": [
    "matchups['result_regr'] = matchups['score1'] - matchups['score2']\n",
    "matchups['result_class'] = matchups['result_regr'].apply(lambda x: 1 if x>0 else 0)\n",
    "matchups = matchups.drop(columns=['score1','score2'])\n",
    "matchups.info()"
   ]
  },
  {
   "cell_type": "markdown",
   "metadata": {},
   "source": [
    "#### Merge matchups with team stats"
   ]
  },
  {
   "cell_type": "code",
   "execution_count": 8,
   "metadata": {},
   "outputs": [
    {
     "name": "stdout",
     "output_type": "stream",
     "text": [
      "<class 'pandas.core.frame.DataFrame'>\n",
      "Int64Index: 1334 entries, 0 to 1333\n",
      "Data columns (total 55 columns):\n",
      " #   Column          Non-Null Count  Dtype  \n",
      "---  ------          --------------  -----  \n",
      " 0   season_id       1334 non-null   int64  \n",
      " 1   school_id1      1334 non-null   int64  \n",
      " 2   school_id2      1334 non-null   int64  \n",
      " 3   result_regr     1334 non-null   int64  \n",
      " 4   result_class    1334 non-null   int64  \n",
      " 5   school_id       1334 non-null   int64  \n",
      " 6   srs             1334 non-null   float64\n",
      " 7   fg3             1334 non-null   float64\n",
      " 8   ft              1334 non-null   float64\n",
      " 9   ast             1334 non-null   float64\n",
      " 10  stl             1334 non-null   float64\n",
      " 11  blk             1334 non-null   float64\n",
      " 12  tov             1334 non-null   float64\n",
      " 13  tourn_rank      1334 non-null   int64  \n",
      " 14  pace            1334 non-null   float64\n",
      " 15  ast_pct         1334 non-null   float64\n",
      " 16  blk_pct         1334 non-null   float64\n",
      " 17  tov_pct         1334 non-null   float64\n",
      " 18  opp_fg3         1334 non-null   float64\n",
      " 19  opp_fta         1334 non-null   float64\n",
      " 20  opp_ast         1334 non-null   float64\n",
      " 21  opp_stl         1334 non-null   float64\n",
      " 22  opp_blk         1334 non-null   float64\n",
      " 23  opp_tov         1334 non-null   float64\n",
      " 24  opp_blk_pct     1334 non-null   float64\n",
      " 25  opp_tov_pct     1334 non-null   float64\n",
      " 26  score_margin    1334 non-null   float64\n",
      " 27  or_pct          1334 non-null   float64\n",
      " 28  dr_pct          1334 non-null   float64\n",
      " 29  tr_pct          1334 non-null   float64\n",
      " 30  school_id_2     1334 non-null   int64  \n",
      " 31  srs_2           1334 non-null   float64\n",
      " 32  fg3_2           1334 non-null   float64\n",
      " 33  ft_2            1334 non-null   float64\n",
      " 34  ast_2           1334 non-null   float64\n",
      " 35  stl_2           1334 non-null   float64\n",
      " 36  blk_2           1334 non-null   float64\n",
      " 37  tov_2           1334 non-null   float64\n",
      " 38  tourn_rank_2    1334 non-null   int64  \n",
      " 39  pace_2          1334 non-null   float64\n",
      " 40  ast_pct_2       1334 non-null   float64\n",
      " 41  blk_pct_2       1334 non-null   float64\n",
      " 42  tov_pct_2       1334 non-null   float64\n",
      " 43  opp_fg3_2       1334 non-null   float64\n",
      " 44  opp_fta_2       1334 non-null   float64\n",
      " 45  opp_ast_2       1334 non-null   float64\n",
      " 46  opp_stl_2       1334 non-null   float64\n",
      " 47  opp_blk_2       1334 non-null   float64\n",
      " 48  opp_tov_2       1334 non-null   float64\n",
      " 49  opp_blk_pct_2   1334 non-null   float64\n",
      " 50  opp_tov_pct_2   1334 non-null   float64\n",
      " 51  score_margin_2  1334 non-null   float64\n",
      " 52  or_pct_2        1334 non-null   float64\n",
      " 53  dr_pct_2        1334 non-null   float64\n",
      " 54  tr_pct_2        1334 non-null   float64\n",
      "dtypes: float64(46), int64(9)\n",
      "memory usage: 583.6 KB\n"
     ]
    }
   ],
   "source": [
    "matchups = matchups.merge(all_stats, how='left', left_on=['season_id','school_id1'], \n",
    "                          right_on=['season_id','school_id'])\n",
    "matchups = matchups.merge(all_stats, how='left', left_on=['season_id','school_id2'], \n",
    "                          right_on=['season_id','school_id'], suffixes=[None,'_2'])\n",
    "matchups.info()"
   ]
  },
  {
   "cell_type": "markdown",
   "metadata": {},
   "source": [
    "#### Create dataset for modeling"
   ]
  },
  {
   "cell_type": "code",
   "execution_count": 9,
   "metadata": {},
   "outputs": [
    {
     "name": "stdout",
     "output_type": "stream",
     "text": [
      "<class 'pandas.core.frame.DataFrame'>\n",
      "Int64Index: 1334 entries, 0 to 1333\n",
      "Data columns (total 37 columns):\n",
      " #   Column            Non-Null Count  Dtype  \n",
      "---  ------            --------------  -----  \n",
      " 0   result_regr       1334 non-null   int64  \n",
      " 1   result_class      1334 non-null   int64  \n",
      " 2   srs_diff          1334 non-null   float64\n",
      " 3   rank_diff         1334 non-null   int64  \n",
      " 4   margin_diff       1334 non-null   float64\n",
      " 5   pace_diff         1334 non-null   float64\n",
      " 6   fg3_diff_a        1334 non-null   float64\n",
      " 7   fg3_diff_b        1334 non-null   float64\n",
      " 8   opp_fg3_diff      1334 non-null   float64\n",
      " 9   ft_diff_a         1334 non-null   float64\n",
      " 10  ft_diff_b         1334 non-null   float64\n",
      " 11  opp_fta_diff      1334 non-null   float64\n",
      " 12  ast_diff          1334 non-null   float64\n",
      " 13  ast_pct_diff      1334 non-null   float64\n",
      " 14  opp_ast_diff      1334 non-null   float64\n",
      " 15  ast_tov_diff      1334 non-null   float64\n",
      " 16  stl_diff_a        1334 non-null   float64\n",
      " 17  stl_diff_b        1334 non-null   float64\n",
      " 18  opp_stl_diff      1334 non-null   float64\n",
      " 19  stl_tov           1334 non-null   float64\n",
      " 20  tov_diff_a        1334 non-null   float64\n",
      " 21  tov_diff_b        1334 non-null   float64\n",
      " 22  opp_tov_diff      1334 non-null   float64\n",
      " 23  tov_pct_diff_a    1334 non-null   float64\n",
      " 24  tov_pct_diff_b    1334 non-null   float64\n",
      " 25  opp_tov_pct_diff  1334 non-null   float64\n",
      " 26  blk_diff_a        1334 non-null   float64\n",
      " 27  blk_diff_b        1334 non-null   float64\n",
      " 28  opp_blk_diff      1334 non-null   float64\n",
      " 29  blk_pct_diff_a    1334 non-null   float64\n",
      " 30  blk_pct_diff_b    1334 non-null   float64\n",
      " 31  opp_blk_pct_diff  1334 non-null   float64\n",
      " 32  or_diff           1334 non-null   float64\n",
      " 33  dr_diff           1334 non-null   float64\n",
      " 34  or_dr             1334 non-null   float64\n",
      " 35  dr_or             1334 non-null   float64\n",
      " 36  tr_diff           1334 non-null   float64\n",
      "dtypes: float64(34), int64(3)\n",
      "memory usage: 396.0 KB\n"
     ]
    }
   ],
   "source": [
    "mm_data = matchups[['result_regr','result_class']].copy()\n",
    "mm_data['srs_diff'] = matchups['srs'] - matchups['srs_2']\n",
    "mm_data['rank_diff'] = matchups['tourn_rank'] - matchups['tourn_rank_2']\n",
    "mm_data['margin_diff'] = matchups['score_margin'] - matchups['score_margin_2']\n",
    "mm_data['pace_diff'] = matchups['pace'] - matchups['pace_2']\n",
    "\n",
    "mm_data['fg3_diff_a'] = matchups['fg3'] - matchups['fg3_2']\n",
    "mm_data['fg3_diff_b'] = (matchups['fg3'] + matchups['opp_fg3_2']) - (matchups['fg3_2'] + matchups['opp_fg3'])\n",
    "mm_data['opp_fg3_diff'] = matchups['opp_fg3'] - matchups['opp_fg3_2']\n",
    "\n",
    "mm_data['ft_diff_a'] = matchups['ft'] - matchups['ft_2']\n",
    "mm_data['ft_diff_b'] = (matchups['ft'] + matchups['opp_fta_2']) - (matchups['ft_2'] + matchups['opp_fta'])\n",
    "mm_data['opp_fta_diff'] = matchups['opp_fta'] - matchups['opp_fta_2']\n",
    "\n",
    "mm_data['ast_diff'] = matchups['ast'] - matchups['ast_2']\n",
    "mm_data['ast_pct_diff'] = matchups['ast_pct'] - matchups['ast_pct_2']\n",
    "mm_data['opp_ast_diff'] = matchups['opp_ast'] - matchups['opp_ast_2']\n",
    "mm_data['ast_tov_diff'] = matchups['ast']/matchups['tov'] - matchups['ast_2']/matchups['tov_2']\n",
    "\n",
    "mm_data['stl_diff_a'] = matchups['stl'] - matchups['stl_2']\n",
    "mm_data['stl_diff_b'] = (matchups['stl'] + matchups['opp_stl_2']) - (matchups['stl_2'] + matchups['opp_stl'])\n",
    "mm_data['opp_stl_diff'] = matchups['opp_stl'] - matchups['opp_stl_2']\n",
    "mm_data['stl_tov'] = (matchups['stl'] + matchups['tov_2']) - (matchups['stl_2'] + matchups['tov'])\n",
    "mm_data['tov_diff_a'] = matchups['tov'] - matchups['tov_2']\n",
    "mm_data['tov_diff_b'] = (matchups['opp_tov'] + matchups['tov_2']) - (matchups['opp_tov_2'] + matchups['tov'])\n",
    "mm_data['opp_tov_diff'] = matchups['opp_tov'] - matchups['opp_tov_2']\n",
    "mm_data['tov_pct_diff_a'] = matchups['tov_pct'] - matchups['tov_pct_2']\n",
    "mm_data['tov_pct_diff_b'] = (matchups['opp_tov_pct'] + matchups['tov_pct_2']) - (matchups['opp_tov_pct_2'] + matchups['tov_pct'])\n",
    "mm_data['opp_tov_pct_diff'] = matchups['opp_tov_pct'] - matchups['opp_tov_pct_2']\n",
    "\n",
    "mm_data['blk_diff_a'] = matchups['blk'] - matchups['blk_2']\n",
    "mm_data['blk_diff_b'] = (matchups['blk'] + matchups['opp_blk_2']) - (matchups['blk_2'] + matchups['opp_blk']) \n",
    "mm_data['opp_blk_diff'] = matchups['opp_blk'] - matchups['opp_blk_2']\n",
    "mm_data['blk_pct_diff_a'] = matchups['blk_pct'] - matchups['blk_pct_2']\n",
    "mm_data['blk_pct_diff_b'] = (matchups['blk_pct'] + matchups['opp_blk_pct_2']) - (matchups['blk_pct_2'] + matchups['opp_blk_pct']) \n",
    "mm_data['opp_blk_pct_diff'] = matchups['opp_blk_pct'] - matchups['opp_blk_pct_2']\n",
    "\n",
    "mm_data['or_diff'] = matchups['or_pct'] - matchups['or_pct_2']\n",
    "mm_data['dr_diff'] = matchups['dr_pct'] - matchups['dr_pct_2']\n",
    "mm_data['or_dr'] = matchups['or_pct'] - matchups['dr_pct_2']\n",
    "mm_data['dr_or'] = matchups['dr_pct'] - matchups['or_pct_2']\n",
    "mm_data['tr_diff'] = matchups['tr_pct'] - matchups['tr_pct_2']\n",
    "\n",
    "mm_data.info()"
   ]
  },
  {
   "cell_type": "code",
   "execution_count": 10,
   "metadata": {},
   "outputs": [],
   "source": [
    "mm_data.to_csv('mm_data.csv', index=False)"
   ]
  },
  {
   "cell_type": "code",
   "execution_count": null,
   "metadata": {},
   "outputs": [],
   "source": []
  }
 ],
 "metadata": {
  "kernelspec": {
   "display_name": "Python 3",
   "language": "python",
   "name": "python3"
  },
  "language_info": {
   "codemirror_mode": {
    "name": "ipython",
    "version": 3
   },
   "file_extension": ".py",
   "mimetype": "text/x-python",
   "name": "python",
   "nbconvert_exporter": "python",
   "pygments_lexer": "ipython3",
   "version": "3.7.6"
  }
 },
 "nbformat": 4,
 "nbformat_minor": 4
}
